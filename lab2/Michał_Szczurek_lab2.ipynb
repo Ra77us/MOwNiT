{
 "cells": [
  {
   "cell_type": "markdown",
   "metadata": {},
   "source": [
    "# Michał Szczurek - lab 2. #"
   ]
  },
  {
   "cell_type": "code",
   "execution_count": 1,
   "metadata": {},
   "outputs": [],
   "source": [
    "import numpy as np\n",
    "from matplotlib import pyplot as plt"
   ]
  },
  {
   "cell_type": "markdown",
   "metadata": {},
   "source": [
    "### Gnerowanie danych ###"
   ]
  },
  {
   "cell_type": "code",
   "execution_count": 2,
   "metadata": {},
   "outputs": [],
   "source": [
    "def generate_data(N):\n",
    "    A =  np.random.rand(N,N)\n",
    "    inv_A = np.linalg.inv(A)\n",
    "    # reshape twprzy wektory kolumnowe\n",
    "    u = np.random.rand(N).reshape(-1,1)\n",
    "    v = np.random.rand(N).reshape(-1,1) \n",
    "    AuvT = A + u @ v.T\n",
    "    return A, u, v, inv_A, AuvT"
   ]
  },
  {
   "cell_type": "code",
   "execution_count": 3,
   "metadata": {},
   "outputs": [],
   "source": [
    "N = 3\n",
    "A, u, v, inv_A, AuvT = generate_data(N)"
   ]
  },
  {
   "cell_type": "markdown",
   "metadata": {},
   "source": [
    "### Trzy algorytmy obliczające wynik ###"
   ]
  },
  {
   "cell_type": "code",
   "execution_count": 4,
   "metadata": {},
   "outputs": [],
   "source": [
    "def simple_inversion(AuvT):\n",
    "    return np.linalg.inv(AuvT)"
   ]
  },
  {
   "cell_type": "code",
   "execution_count": 5,
   "metadata": {},
   "outputs": [],
   "source": [
    "def sherman_morrison_v1(u, v, inv_A):\n",
    "    numerator = (inv_A @ u @ v.T @ inv_A)\n",
    "    denominator =  (1.0 + v.T @ inv_A @ u)\n",
    "    res = inv_A -  numerator / denominator\n",
    "    return res"
   ]
  },
  {
   "cell_type": "code",
   "execution_count": 6,
   "metadata": {},
   "outputs": [],
   "source": [
    "def sherman_morrison_v2(u, v, inv_A):\n",
    "    numerator = (inv_A @ (u @ v.T) @ inv_A)\n",
    "    denominator =  (1.0 + v.T @ inv_A @ u)\n",
    "    res = inv_A -  numerator / denominator\n",
    "    return res"
   ]
  },
  {
   "cell_type": "markdown",
   "metadata": {},
   "source": [
    "### Porównanie wyników każdego z algorytmów ###"
   ]
  },
  {
   "cell_type": "code",
   "execution_count": 7,
   "metadata": {},
   "outputs": [
    {
     "name": "stdout",
     "output_type": "stream",
     "text": [
      "[[-1.53104611  1.60234651 -0.09156212]\n",
      " [ 3.16316796 -0.92767491 -1.80907557]\n",
      " [-0.84192257 -0.56187639  2.08355724]]\n",
      "[[-1.53104611  1.60234651 -0.09156212]\n",
      " [ 3.16316796 -0.92767491 -1.80907557]\n",
      " [-0.84192257 -0.56187639  2.08355724]]\n",
      "[[-1.53104611  1.60234651 -0.09156212]\n",
      " [ 3.16316796 -0.92767491 -1.80907557]\n",
      " [-0.84192257 -0.56187639  2.08355724]]\n"
     ]
    }
   ],
   "source": [
    "print(simple_inversion(AuvT))\n",
    "print(sherman_morrison_v1(u, v, inv_A))\n",
    "print(sherman_morrison_v2(u, v, inv_A))"
   ]
  },
  {
   "cell_type": "markdown",
   "metadata": {},
   "source": [
    "### Pomiary czasowe ###"
   ]
  },
  {
   "cell_type": "code",
   "execution_count": 8,
   "metadata": {},
   "outputs": [],
   "source": [
    "from timeit import default_timer as timer"
   ]
  },
  {
   "cell_type": "code",
   "execution_count": 9,
   "metadata": {},
   "outputs": [],
   "source": [
    "import pandas as pd"
   ]
  },
  {
   "cell_type": "code",
   "execution_count": 10,
   "metadata": {},
   "outputs": [],
   "source": [
    "def get_time(A, u, v, inv_A, AuvT, algorithm):\n",
    "    \n",
    "    if algorithm == 0:\n",
    "        start =  timer()\n",
    "        res = simple_inversion(inv_A)\n",
    "        end =  timer()\n",
    "    elif algorithm == 1:\n",
    "        start =  timer()\n",
    "        res = sherman_morrison_v1(u, v, inv_A)\n",
    "        end =  timer()\n",
    "    else:\n",
    "        start =  timer()\n",
    "        res = sherman_morrison_v2(u, v, inv_A)\n",
    "        end =  timer()\n",
    "        \n",
    "    return end - start"
   ]
  },
  {
   "cell_type": "code",
   "execution_count": 11,
   "metadata": {},
   "outputs": [],
   "source": [
    "def perform_multiple_tests(N, repetitions, data):\n",
    "    A, u, v, inv_A, AuvT = generate_data(N)\n",
    "    for _ in range(repetitions):\n",
    "        \n",
    "        t = get_time(A, u, v, inv_A, AuvT, 0)\n",
    "        s = pd.Series([\"Simple Inversion\", N, t], index = [\"Algorithm\", \"N\", \"Time\"])\n",
    "        data = data.append(s,ignore_index=True)\n",
    "        \n",
    "        t = get_time(A, u, v, inv_A, AuvT, 1)\n",
    "        s = pd.Series([\"Sherman Morrison 1\",N, t], index = [\"Algorithm\", \"N\", \"Time\"])\n",
    "        data = data.append(s,ignore_index=True)\n",
    "        \n",
    "        t = get_time(A, u, v, inv_A, AuvT, 2)\n",
    "        s = pd.Series([\"Sherman Morrison 2\",N, t], index = [\"Algorithm\", \"N\", \"Time\"])\n",
    "        data = data.append(s,ignore_index=True)\n",
    "\n",
    "    return data"
   ]
  },
  {
   "cell_type": "code",
   "execution_count": 12,
   "metadata": {},
   "outputs": [],
   "source": [
    "def get_data(points_num, start, step):\n",
    "    data = pd.DataFrame(columns = [\"Algorithm\", \"N\", \"Time\"])\n",
    "    for i in range(points_num):\n",
    "        data = perform_multiple_tests(start + i*step, 10, data)\n",
    "    return data"
   ]
  },
  {
   "cell_type": "code",
   "execution_count": 13,
   "metadata": {
    "scrolled": true
   },
   "outputs": [],
   "source": [
    "data = get_data(25, 100, 100)"
   ]
  },
  {
   "cell_type": "markdown",
   "metadata": {},
   "source": [
    "### Przetworzenie danych i narysowanie wykresu ###"
   ]
  },
  {
   "cell_type": "code",
   "execution_count": 17,
   "metadata": {},
   "outputs": [],
   "source": [
    "import matplotlib.pyplot as plt"
   ]
  },
  {
   "cell_type": "code",
   "execution_count": 18,
   "metadata": {},
   "outputs": [],
   "source": [
    "def plot_data(data, points_num, start, step, algorithm):\n",
    "    algo_names = {\"Simple Inversion\": \"1. (prostego odwórcenia)\", \n",
    "                 \"Sherman Morrison 1\": \"2. - 1. wersji algorytmu Shermana Morrisona\",\n",
    "                 \"Sherman Morrison 2\": \"3. - 2. wersji algorytmu Shermana Morrisona\",\n",
    "                 \"Sherman Morrison 3\": \"4. - 3. wersji algorytmu Shermana Morrisona\"}\n",
    "    \n",
    "    points = [start + i*step for i in range(points_num)]\n",
    "    means = []\n",
    "    stds = []\n",
    "    for i in points:\n",
    "        s = data[data[\"N\"] == i]\n",
    "        s = s[s[\"Algorithm\"] == algorithm]\n",
    "        means.append(s[\"Time\"].mean())\n",
    "        stds.append(s[\"Time\"].std())\n",
    "        \n",
    "    plt.errorbar(points, means, yerr=stds, fmt='o', ecolor='black', capsize = 5, markersize = 5)\n",
    "    plt.xlabel(\"liczba N\")\n",
    "    plt.ylabel(\"Czas [s]\")\n",
    "    plt.title(f\"Wykres czasu dla algorytmu {algo_names[algorithm]}\")\n",
    "    plt.grid()\n",
    "    plt.show()\n",
    "        "
   ]
  },
  {
   "cell_type": "code",
   "execution_count": 19,
   "metadata": {},
   "outputs": [
    {
     "data": {
      "image/png": "[encoded data removed]",
      "text/plain": [
       "<Figure size 432x288 with 1 Axes>"
      ]
     },
     "metadata": {
      "needs_background": "light"
     },
     "output_type": "display_data"
    }
   ],
   "source": [
    "plot_data(data, 25, 100, 100, \"Simple Inversion\")"
   ]
  },
  {
   "cell_type": "code",
   "execution_count": 20,
   "metadata": {},
   "outputs": [
    {
     "data": {
      "image/png": "[encoded data removed]",
      "text/plain": [
       "<Figure size 432x288 with 1 Axes>"
      ]
     },
     "metadata": {
      "needs_background": "light"
     },
     "output_type": "display_data"
    }
   ],
   "source": [
    "plot_data(data, 25, 100,100, \"Sherman Morrison 1\")"
   ]
  },
  {
   "cell_type": "code",
   "execution_count": 21,
   "metadata": {},
   "outputs": [
    {
     "data": {
      "image/png": "[encoded data removed]",
      "text/plain": [
       "<Figure size 432x288 with 1 Axes>"
      ]
     },
     "metadata": {
      "needs_background": "light"
     },
     "output_type": "display_data"
    }
   ],
   "source": [
    "plot_data(data, 25, 100, 100, \"Sherman Morrison 2\")"
   ]
  },
  {
   "cell_type": "markdown",
   "metadata": {},
   "source": [
    "### Algorytm dodatkowy i jego pomiar ###"
   ]
  },
  {
   "cell_type": "code",
   "execution_count": 22,
   "metadata": {},
   "outputs": [],
   "source": [
    "def sherman_morrison_v3(u, v, inv_A):\n",
    "    numerator = ((inv_A @ u) @ (v.T @ inv_A))\n",
    "    denominator =  (1.0 + v.T @ inv_A @ u)\n",
    "    res = inv_A -  numerator / denominator\n",
    "    return res"
   ]
  },
  {
   "cell_type": "markdown",
   "metadata": {},
   "source": [
    "### Pomiary algorytmu dodatkowego###"
   ]
  },
  {
   "cell_type": "code",
   "execution_count": 23,
   "metadata": {},
   "outputs": [],
   "source": [
    "def get_time_v3(u, v, inv_A):\n",
    "    start =  timer()\n",
    "    res = sherman_morrison_v3(u, v, inv_A)\n",
    "    end =  timer()\n",
    "    return end - start"
   ]
  },
  {
   "cell_type": "code",
   "execution_count": 24,
   "metadata": {},
   "outputs": [],
   "source": [
    "def perform_multiple_tests_v3(N, repetitions, data):\n",
    "    A, u, v, inv_A, AuvT = generate_data(N)\n",
    "    for _ in range(repetitions):\n",
    "        \n",
    "        t = get_time_v3(u, v, inv_A)\n",
    "        s = pd.Series([\"Sherman Morrison 3\", N, t], index = [\"Algorithm\", \"N\", \"Time\"])\n",
    "        data = data.append(s,ignore_index=True)\n",
    "        \n",
    "    return data"
   ]
  },
  {
   "cell_type": "code",
   "execution_count": 25,
   "metadata": {},
   "outputs": [],
   "source": [
    "def get_data_v3(points_num, start, step):   \n",
    "    data = pd.DataFrame(columns = [\"Algorithm\", \"N\", \"Time\"])\n",
    "    for i in range(points_num):\n",
    "        data = perform_multiple_tests_v3(start + i*step, 10, data)\n",
    "    return data"
   ]
  },
  {
   "cell_type": "code",
   "execution_count": 26,
   "metadata": {},
   "outputs": [],
   "source": [
    "data3= get_data_v3(25, 100, 100)"
   ]
  },
  {
   "cell_type": "code",
   "execution_count": 27,
   "metadata": {},
   "outputs": [
    {
     "data": {
      "image/png": "[encoded data removed]",
      "text/plain": [
       "<Figure size 432x288 with 1 Axes>"
      ]
     },
     "metadata": {
      "needs_background": "light"
     },
     "output_type": "display_data"
    }
   ],
   "source": [
    "plot_data(data3, 25, 100, 100, \"Sherman Morrison 3\")"
   ]
  },
  {
   "cell_type": "code",
   "execution_count": 56,
   "metadata": {},
   "outputs": [],
   "source": [
    "def plot_data(data, points_num, start, step, algorithm, datav3):\n",
    "    algo_names = {\"Simple Inversion\": \"1. (prostego odwórcenia)\", \n",
    "                 \"Sherman Morrison 1\": \"2. - 1. wersji algorytmu Shermana Morrisona\",\n",
    "                 \"Sherman Morrison 2\": \"3. - 2. wersji algorytmu Shermana Morrisona\",\n",
    "                 \"Sherman Morrison 3\": \"4. - 3. wersji algorytmu Shermana Morrisona\"}\n",
    "    \n",
    "    points = [start + i*step for i in range(points_num)]\n",
    "    means_1 = []\n",
    "    stds_1 = []\n",
    "    means_2 = []\n",
    "    stds_2 = []\n",
    "    means_3 = []\n",
    "    stds_3 = []\n",
    "    means_4 = []\n",
    "    stds_4 = []\n",
    "    \n",
    "    for i in points:\n",
    "        s = data[data[\"N\"] == i]\n",
    "        s = s[s[\"Algorithm\"] == \"Simple Inversion\"]\n",
    "        means_1.append(s[\"Time\"].mean())\n",
    "        stds_1.append(s[\"Time\"].std())\n",
    "    plt.errorbar(points, means_1, yerr=stds_1, fmt='o', ecolor='black', capsize = 3, markersize = 4, color='green', label = 'Proste odwrócenie')\n",
    "    \n",
    "    for i in points:\n",
    "        s = data[data[\"N\"] == i]\n",
    "        s = s[s[\"Algorithm\"] == \"Sherman Morrison 1\"]\n",
    "        means_2.append(s[\"Time\"].mean())\n",
    "        stds_2.append(s[\"Time\"].std())\n",
    "    plt.errorbar(points, means_2, yerr=stds_2, fmt='o', ecolor='black', capsize = 3, markersize = 4, color='red', label ='Algorytm Shermana-Morrisona 1')\n",
    "    for i in points:\n",
    "        s = data[data[\"N\"] == i]\n",
    "        s = s[s[\"Algorithm\"] == \"Sherman Morrison 2\"]\n",
    "        means_3.append(s[\"Time\"].mean())\n",
    "        stds_3.append(s[\"Time\"].std())\n",
    "    plt.errorbar(points, means_3, yerr=stds_3, fmt='o', ecolor='black', capsize = 3, markersize = 4, label ='Algorytm Shermana-Morrisona 2')\n",
    "    for i in points:\n",
    "        s = datav3[datav3[\"N\"] == i]\n",
    "        s = s[s[\"Algorithm\"] == \"Sherman Morrison 3\"]\n",
    "        means_4.append(s[\"Time\"].mean())\n",
    "        stds_4.append(s[\"Time\"].std())\n",
    "    plt.errorbar(points, means_4, yerr=stds_4, fmt='o', ecolor='black', capsize = 3, markersize = 4, color='purple', label ='Algorytm Shermana-Morrisona 3')\n",
    "\n",
    "    plt.xlabel(\"liczba N\")\n",
    "    plt.ylabel(\"Czas [s]\")\n",
    "    plt.legend()\n",
    "    plt.title(f\"Wykres czasu dla testowanych algorytmów\")\n",
    "    plt.grid()\n",
    "    plt.show()\n",
    "        "
   ]
  },
  {
   "cell_type": "code",
   "execution_count": 57,
   "metadata": {},
   "outputs": [
    {
     "data": {
      "image/png": "[encoded data removed]",
      "text/plain": [
       "<Figure size 432x288 with 1 Axes>"
      ]
     },
     "metadata": {
      "needs_background": "light"
     },
     "output_type": "display_data"
    }
   ],
   "source": [
    " plot_data(data, 25, 100, 100, \"Sherman Morrison 3\",data3 )"
   ]
  },
  {
   "cell_type": "code",
   "execution_count": null,
   "metadata": {},
   "outputs": [],
   "source": []
  }
 ],
 "metadata": {
  "kernelspec": {
   "display_name": "Python 3",
   "language": "python",
   "name": "python3"
  },
  "language_info": {
   "codemirror_mode": {
    "name": "ipython",
    "version": 3
   },
   "file_extension": ".py",
   "mimetype": "text/x-python",
   "name": "python",
   "nbconvert_exporter": "python",
   "pygments_lexer": "ipython3",
   "version": "3.8.3"
  }
 },
 "nbformat": 4,
 "nbformat_minor": 4
}
