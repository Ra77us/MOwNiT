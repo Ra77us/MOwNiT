{
 "cells": [
  {
   "cell_type": "markdown",
   "metadata": {},
   "source": [
    "# Michał Szczurek lab 9"
   ]
  },
  {
   "cell_type": "code",
   "execution_count": 1,
   "metadata": {},
   "outputs": [],
   "source": [
    "import numpy as np\n",
    "from sympy import *\n",
    "x = symbols('x')\n",
    "y = symbols('y')\n",
    "import numpy.linalg as la\n",
    "import math\n",
    "import scipy.optimize as sopt\n",
    "import matplotlib.pyplot as plt"
   ]
  },
  {
   "cell_type": "markdown",
   "metadata": {},
   "source": [
    "### Zadanie 1. zostało rozwiązane \"na kartce\". Poniżej znajduje się kod zadania 2."
   ]
  },
  {
   "cell_type": "code",
   "execution_count": 2,
   "metadata": {},
   "outputs": [],
   "source": [
    "def plot_cmp(res1, vec, n=10):\n",
    "    x = np.linspace(1,n,n)\n",
    "    r1 = [x for [x,y] in res1]\n",
    "    r2 = [y for [x,y] in res1]\n",
    "    plt.plot(x, r1, label=\"Wartości $x_1$\")\n",
    "    plt.plot(x, r2, label=\"Wartości $x_2$\")\n",
    "    plt.legend()\n",
    "    plt.ylabel(\"Numer iteracji\")\n",
    "    plt.title(f\"Metoda największego spadku dla wartości początkowych [{vec[0]}, {vec[1]}]\")\n",
    "    plt.show()"
   ]
  },
  {
   "cell_type": "code",
   "execution_count": 3,
   "metadata": {},
   "outputs": [],
   "source": [
    "func =  100*(y - x**2)**2 + (1-x)**2"
   ]
  },
  {
   "cell_type": "code",
   "execution_count": 4,
   "metadata": {},
   "outputs": [],
   "source": [
    "def d2(func, x, y=None):\n",
    "    if y is None:\n",
    "        return diff(diff(func,x),x)\n",
    "    else:\n",
    "        return diff(diff(func,x),y)\n",
    "\n",
    "def newton(func, vec, n=10, printing=False):\n",
    "    vec = np.array(vec).T\n",
    "    hess = np.array([[d2(func, x), d2(func, x, y)],\n",
    "                    [d2(func, x, y),  d2(func,y)]])\n",
    "    grad = np.array([diff(func,x), diff(func,y)]).T\n",
    "    res = []\n",
    "    for i in range(n):\n",
    "        curr_h = np.zeros((2,2))\n",
    "        curr_h[0,0] = hess[0,0].subs(y,vec[1]).subs(x,vec[0])\n",
    "        curr_h[1,1] = hess[1,1].subs(y,vec[1]).subs(x,vec[0])\n",
    "        curr_h[1,0] = hess[1,0].subs(y,vec[1]).subs(x,vec[0])\n",
    "        curr_h[0,1] = curr_h[1,0]\n",
    "        curr_grad = np.zeros(2)\n",
    "        curr_grad[0] =grad[0].subs(y,vec[1]).subs(x,vec[0])\n",
    "        curr_grad[1] =grad[1].subs(y,vec[1]).subs(x,vec[0])\n",
    "        vec = vec - np.linalg.inv(curr_h) @ curr_grad\n",
    "        res.append(vec)\n",
    "        if printing:\n",
    "            print(i+1,\":\",vec)\n",
    "    return res"
   ]
  },
  {
   "cell_type": "code",
   "execution_count": 5,
   "metadata": {},
   "outputs": [],
   "source": [
    "def gold_ratio_opt(f, a=0, b=4, error=10e-9):\n",
    "    r=(math.sqrt(5)-1)/2\n",
    "    a1=b-r*(b-a)\n",
    "    a2=a+r*(b-a)\n",
    "    while abs(b-a)>error:\n",
    "        f1=f(a1)\n",
    "        f2=f(a2)\n",
    "        if f1>f2:\n",
    "            a=a1\n",
    "            a1=a2\n",
    "            a2=a+r*(b-a)\n",
    "        else:\n",
    "            b=a2\n",
    "            a2=a1\n",
    "            a1=b-r*(b-a)\n",
    "        x_opt=(a+b)/2\n",
    "    return x_opt"
   ]
  },
  {
   "cell_type": "code",
   "execution_count": 6,
   "metadata": {},
   "outputs": [],
   "source": [
    "def f(x):\n",
    "    return 100*(x[1] - x[0]**2)**2 + (1-x[0])**2\n",
    "\n",
    "def df(x):\n",
    "    return np.array([-400*x[0]*(-x[0]**2+x[1]) + 2*x[0] -2, -200*x[0]**2 + 200*x[1]])\n",
    "\n",
    "def steepest_grad(f, df, vec, n=10, printing=False):\n",
    "    res = []\n",
    "    def f1d(alpha):\n",
    "        return f(vec + alpha*s)\n",
    "    for i in range(n):\n",
    "        s = -df(vec)\n",
    "        lr = gold_ratio_opt(f1d)\n",
    "        vec = vec + lr * s\n",
    "        res.append(vec)\n",
    "        if printing:\n",
    "            print(i+1, \":\", vec)   \n",
    "    return res"
   ]
  },
  {
   "cell_type": "code",
   "execution_count": 7,
   "metadata": {},
   "outputs": [],
   "source": [
    "vec = [-1,1]"
   ]
  },
  {
   "cell_type": "code",
   "execution_count": 8,
   "metadata": {
    "scrolled": false
   },
   "outputs": [
    {
     "name": "stdout",
     "output_type": "stream",
     "text": [
      "1 : [1. 1.]\n",
      "2 : [1. 1.]\n",
      "3 : [1. 1.]\n",
      "4 : [1. 1.]\n",
      "5 : [1. 1.]\n",
      "6 : [1. 1.]\n",
      "7 : [1. 1.]\n",
      "8 : [1. 1.]\n",
      "9 : [1. 1.]\n",
      "10 : [1. 1.]\n"
     ]
    }
   ],
   "source": [
    "res = steepest_grad(f, df, vec, printing=True)"
   ]
  },
  {
   "cell_type": "code",
   "execution_count": 9,
   "metadata": {},
   "outputs": [
    {
     "name": "stdout",
     "output_type": "stream",
     "text": [
      "1 : [ 1. -3.]\n",
      "2 : [1. 1.]\n",
      "3 : [1. 1.]\n",
      "4 : [1. 1.]\n",
      "5 : [1. 1.]\n",
      "6 : [1. 1.]\n",
      "7 : [1. 1.]\n",
      "8 : [1. 1.]\n",
      "9 : [1. 1.]\n",
      "10 : [1. 1.]\n"
     ]
    }
   ],
   "source": [
    "res = newton(func, vec, printing=True)"
   ]
  },
  {
   "cell_type": "code",
   "execution_count": 10,
   "metadata": {},
   "outputs": [],
   "source": [
    "vec = [0, 1]"
   ]
  },
  {
   "cell_type": "code",
   "execution_count": 11,
   "metadata": {},
   "outputs": [
    {
     "name": "stdout",
     "output_type": "stream",
     "text": [
      "1 : [9.99999378e-03 6.22167055e-07]\n",
      "2 : [0.16583412 0.00156522]\n",
      "3 : [0.16557542 0.02733171]\n",
      "4 : [0.21555392 0.02783354]\n",
      "5 : [0.21536845 0.04630513]\n",
      "6 : [0.24905667 0.04664336]\n",
      "7 : [0.24890372 0.06187803]\n",
      "8 : [0.27490455 0.06213907]\n",
      "9 : [0.27477114 0.07542677]\n",
      "10 : [0.29618873 0.0756418 ]\n"
     ]
    },
    {
     "data": {
      "image/png": "[encoded data removed]",
      "text/plain": [
       "<Figure size 432x288 with 1 Axes>"
      ]
     },
     "metadata": {
      "needs_background": "light"
     },
     "output_type": "display_data"
    }
   ],
   "source": [
    "res = steepest_grad(f, df, vec, printing=True)\n",
    "plot_cmp(res, vec)"
   ]
  },
  {
   "cell_type": "code",
   "execution_count": 12,
   "metadata": {},
   "outputs": [
    {
     "name": "stdout",
     "output_type": "stream",
     "text": [
      "1 : [-0.00502513  0.        ]\n",
      "2 : [ 0.99494975 -0.01002475]\n",
      "3 : [0.99497488 0.989975  ]\n",
      "4 : [1.         0.99997475]\n",
      "5 : [1. 1.]\n",
      "6 : [1. 1.]\n",
      "7 : [1. 1.]\n",
      "8 : [1. 1.]\n",
      "9 : [1. 1.]\n",
      "10 : [1. 1.]\n"
     ]
    }
   ],
   "source": [
    "res = newton(func, vec, printing=True)"
   ]
  },
  {
   "cell_type": "code",
   "execution_count": 13,
   "metadata": {},
   "outputs": [],
   "source": [
    "vec = [2, 1]"
   ]
  },
  {
   "cell_type": "code",
   "execution_count": 14,
   "metadata": {},
   "outputs": [
    {
     "name": "stdout",
     "output_type": "stream",
     "text": [
      "1 : [-1.35192908  1.83728453]\n",
      "2 : [-1.35283053  1.83363257]\n",
      "3 : [1.10722931 1.2263924 ]\n",
      "4 : [1.1066757  1.22415029]\n",
      "5 : [1.10626394 1.22425196]\n",
      "6 : [1.10571601 1.22203289]\n",
      "7 : [1.10530773 1.2221337 ]\n",
      "8 : [1.10476549 1.21993757]\n",
      "9 : [1.10436069 1.22003752]\n",
      "10 : [1.10382402 1.21786395]\n"
     ]
    },
    {
     "data": {
      "image/png": "[encoded data removed]",
      "text/plain": [
       "<Figure size 432x288 with 1 Axes>"
      ]
     },
     "metadata": {
      "needs_background": "light"
     },
     "output_type": "display_data"
    }
   ],
   "source": [
    "res = steepest_grad(f, df, vec, printing=True)\n",
    "plot_cmp(res, vec)"
   ]
  },
  {
   "cell_type": "code",
   "execution_count": 15,
   "metadata": {},
   "outputs": [
    {
     "name": "stdout",
     "output_type": "stream",
     "text": [
      "1 : [1.99833611 3.99334443]\n",
      "2 : [1.00055248 0.0055331 ]\n",
      "3 : [1.00054972 1.00109974]\n",
      "4 : [1.        0.9999997]\n",
      "5 : [1. 1.]\n",
      "6 : [1. 1.]\n",
      "7 : [1. 1.]\n",
      "8 : [1. 1.]\n",
      "9 : [1. 1.]\n",
      "10 : [1. 1.]\n"
     ]
    }
   ],
   "source": [
    "res = newton(func, vec, printing=True)"
   ]
  },
  {
   "cell_type": "code",
   "execution_count": 16,
   "metadata": {},
   "outputs": [],
   "source": [
    "vec = [3,4]"
   ]
  },
  {
   "cell_type": "code",
   "execution_count": 17,
   "metadata": {},
   "outputs": [
    {
     "name": "stdout",
     "output_type": "stream",
     "text": [
      "[-2.18534156  4.77896938]\n"
     ]
    }
   ],
   "source": [
    "res = steepest_grad(f, df, vec)\n",
    "print(res[-1])"
   ]
  },
  {
   "cell_type": "code",
   "execution_count": 18,
   "metadata": {},
   "outputs": [
    {
     "name": "stdout",
     "output_type": "stream",
     "text": [
      "[1. 1.]\n"
     ]
    }
   ],
   "source": [
    "res = newton(func, vec)\n",
    "print(res[-1])"
   ]
  },
  {
   "cell_type": "code",
   "execution_count": 19,
   "metadata": {},
   "outputs": [],
   "source": [
    "vec = [-4,5]"
   ]
  },
  {
   "cell_type": "code",
   "execution_count": 20,
   "metadata": {},
   "outputs": [
    {
     "name": "stdout",
     "output_type": "stream",
     "text": [
      "[-1.91418919  3.62914443]\n"
     ]
    }
   ],
   "source": [
    "res = steepest_grad(f, df, vec)\n",
    "print(res[-1])"
   ]
  },
  {
   "cell_type": "code",
   "execution_count": 21,
   "metadata": {},
   "outputs": [
    {
     "name": "stdout",
     "output_type": "stream",
     "text": [
      "[1. 1.]\n"
     ]
    }
   ],
   "source": [
    "res = newton(func, vec)\n",
    "print(res[-1])"
   ]
  },
  {
   "cell_type": "code",
   "execution_count": 22,
   "metadata": {},
   "outputs": [],
   "source": [
    "vec = [-14,8]"
   ]
  },
  {
   "cell_type": "code",
   "execution_count": 23,
   "metadata": {},
   "outputs": [
    {
     "name": "stdout",
     "output_type": "stream",
     "text": [
      "[2.93264763 8.60305413]\n"
     ]
    }
   ],
   "source": [
    "res = steepest_grad(f, df, vec)\n",
    "print(res[-1])"
   ]
  },
  {
   "cell_type": "code",
   "execution_count": 24,
   "metadata": {},
   "outputs": [
    {
     "name": "stdout",
     "output_type": "stream",
     "text": [
      "[1. 1.]\n"
     ]
    }
   ],
   "source": [
    "res = newton(func, vec)\n",
    "print(res[-1])"
   ]
  },
  {
   "cell_type": "code",
   "execution_count": 25,
   "metadata": {},
   "outputs": [],
   "source": [
    "vec = [300,-1000]"
   ]
  },
  {
   "cell_type": "code",
   "execution_count": 26,
   "metadata": {},
   "outputs": [
    {
     "name": "stdout",
     "output_type": "stream",
     "text": [
      "[ 9.75924627e-01 -9.84955516e+02]\n"
     ]
    }
   ],
   "source": [
    "res = steepest_grad(f, df, vec)\n",
    "print(res[-1])"
   ]
  },
  {
   "cell_type": "code",
   "execution_count": 27,
   "metadata": {},
   "outputs": [
    {
     "name": "stdout",
     "output_type": "stream",
     "text": [
      "[1. 1.]\n"
     ]
    }
   ],
   "source": [
    "res = newton(func, vec)\n",
    "print(res[-1])"
   ]
  },
  {
   "cell_type": "code",
   "execution_count": 31,
   "metadata": {
    "scrolled": false
   },
   "outputs": [
    {
     "name": "stdout",
     "output_type": "stream",
     "text": [
      "[1. 1.]\n"
     ]
    },
    {
     "data": {
      "image/png": "[encoded data removed]",
      "text/plain": [
       "<Figure size 432x288 with 1 Axes>"
      ]
     },
     "metadata": {
      "needs_background": "light"
     },
     "output_type": "display_data"
    }
   ],
   "source": [
    "res = steepest_grad(f, df, vec, n=890)\n",
    "print(res[-1])\n",
    "plot_cmp(res, vec, n=890)"
   ]
  },
  {
   "cell_type": "code",
   "execution_count": null,
   "metadata": {},
   "outputs": [],
   "source": []
  }
 ],
 "metadata": {
  "kernelspec": {
   "display_name": "Python 3",
   "language": "python",
   "name": "python3"
  },
  "language_info": {
   "codemirror_mode": {
    "name": "ipython",
    "version": 3
   },
   "file_extension": ".py",
   "mimetype": "text/x-python",
   "name": "python",
   "nbconvert_exporter": "python",
   "pygments_lexer": "ipython3",
   "version": "3.8.3"
  }
 },
 "nbformat": 4,
 "nbformat_minor": 4
}
